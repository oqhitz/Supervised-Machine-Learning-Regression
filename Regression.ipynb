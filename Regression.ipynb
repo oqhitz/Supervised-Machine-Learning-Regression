{
 "cells": [
  {
   "cell_type": "markdown",
   "metadata": {
    "id": "MQn65j-fV9S4"
   },
   "source": [
    "### Import Library"
   ]
  },
  {
   "cell_type": "code",
   "execution_count": 1,
   "metadata": {
    "id": "ew-GlZZHV9TN"
   },
   "outputs": [],
   "source": [
    "import numpy as np #Operasi Matematika dan linear aljebra\n",
    "import pandas as pd #data processing\n",
    "import matplotlib.pyplot as plt #Visualisasi data\n",
    "import seaborn as sns #Visualisasi data"
   ]
  },
  {
   "cell_type": "markdown",
   "metadata": {
    "id": "3JqSXHJfV9TQ"
   },
   "source": [
    "### Load Datasets"
   ]
  },
  {
   "cell_type": "code",
   "execution_count": 2,
   "metadata": {
    "id": "bS9nTpZiV9TR"
   },
   "outputs": [],
   "source": [
    "# loading data with pandas read_csv\n",
    "data = pd.read_csv('Indeks Stabilitas Keuangan.csv',sep=\";\")"
   ]
  },
  {
   "cell_type": "code",
   "execution_count": 3,
   "metadata": {
    "id": "MPQRZ20uV9TS",
    "outputId": "5e4b6993-624e-4bc9-ffb7-0948d102d539"
   },
   "outputs": [
    {
     "data": {
      "text/plain": [
       "(50, 6)"
      ]
     },
     "execution_count": 3,
     "metadata": {},
     "output_type": "execute_result"
    }
   ],
   "source": [
    "#Cek dimensi data\n",
    "data.shape"
   ]
  },
  {
   "cell_type": "code",
   "execution_count": 4,
   "metadata": {
    "id": "f2dq5D-NV9TX",
    "outputId": "a8282956-fe26-40ac-b362-257141f36b01"
   },
   "outputs": [
    {
     "data": {
      "text/html": [
       "<div>\n",
       "<style scoped>\n",
       "    .dataframe tbody tr th:only-of-type {\n",
       "        vertical-align: middle;\n",
       "    }\n",
       "\n",
       "    .dataframe tbody tr th {\n",
       "        vertical-align: top;\n",
       "    }\n",
       "\n",
       "    .dataframe thead th {\n",
       "        text-align: right;\n",
       "    }\n",
       "</style>\n",
       "<table border=\"1\" class=\"dataframe\">\n",
       "  <thead>\n",
       "    <tr style=\"text-align: right;\">\n",
       "      <th></th>\n",
       "      <th>Indeks stabilitas sistem keuangan</th>\n",
       "      <th>IHSG</th>\n",
       "      <th>IHPR</th>\n",
       "      <th>Perkembangan Kredit</th>\n",
       "      <th>Kurs</th>\n",
       "      <th>Jumlah uang  beredar</th>\n",
       "    </tr>\n",
       "  </thead>\n",
       "  <tbody>\n",
       "    <tr>\n",
       "      <th>0</th>\n",
       "      <td>0.96</td>\n",
       "      <td>2598.33</td>\n",
       "      <td>131.89</td>\n",
       "      <td>1158.72</td>\n",
       "      <td>9.59</td>\n",
       "      <td>1991.58</td>\n",
       "    </tr>\n",
       "    <tr>\n",
       "      <th>1</th>\n",
       "      <td>0.96</td>\n",
       "      <td>416.67</td>\n",
       "      <td>135.89</td>\n",
       "      <td>133.03</td>\n",
       "      <td>8.48</td>\n",
       "      <td>684.34</td>\n",
       "    </tr>\n",
       "    <tr>\n",
       "      <th>2</th>\n",
       "      <td>1.06</td>\n",
       "      <td>1069.48</td>\n",
       "      <td>124.97</td>\n",
       "      <td>446.02</td>\n",
       "      <td>9.10</td>\n",
       "      <td>1016.24</td>\n",
       "    </tr>\n",
       "    <tr>\n",
       "      <th>3</th>\n",
       "      <td>0.92</td>\n",
       "      <td>385.33</td>\n",
       "      <td>137.47</td>\n",
       "      <td>308.06</td>\n",
       "      <td>7.25</td>\n",
       "      <td>577.38</td>\n",
       "    </tr>\n",
       "    <tr>\n",
       "      <th>4</th>\n",
       "      <td>1.04</td>\n",
       "      <td>2645.71</td>\n",
       "      <td>132.79</td>\n",
       "      <td>1217.66</td>\n",
       "      <td>9.63</td>\n",
       "      <td>2075.04</td>\n",
       "    </tr>\n",
       "  </tbody>\n",
       "</table>\n",
       "</div>"
      ],
      "text/plain": [
       "   Indeks stabilitas sistem keuangan     IHSG    IHPR  Perkembangan Kredit  \\\n",
       "0                               0.96  2598.33  131.89              1158.72   \n",
       "1                               0.96   416.67  135.89               133.03   \n",
       "2                               1.06  1069.48  124.97               446.02   \n",
       "3                               0.92   385.33  137.47               308.06   \n",
       "4                               1.04  2645.71  132.79              1217.66   \n",
       "\n",
       "   Kurs  Jumlah uang  beredar  \n",
       "0  9.59               1991.58  \n",
       "1  8.48                684.34  \n",
       "2  9.10               1016.24  \n",
       "3  7.25                577.38  \n",
       "4  9.63               2075.04  "
      ]
     },
     "execution_count": 4,
     "metadata": {},
     "output_type": "execute_result"
    }
   ],
   "source": [
    "#Melihat 5 data pertama\n",
    "data.head()"
   ]
  },
  {
   "cell_type": "code",
   "execution_count": 5,
   "metadata": {
    "id": "GX1PShm3V9Ta",
    "outputId": "81a4dbc1-95d5-4252-bc15-92d3420245df"
   },
   "outputs": [
    {
     "name": "stdout",
     "output_type": "stream",
     "text": [
      "<class 'pandas.core.frame.DataFrame'>\n",
      "RangeIndex: 50 entries, 0 to 49\n",
      "Data columns (total 6 columns):\n",
      " #   Column                             Non-Null Count  Dtype  \n",
      "---  ------                             --------------  -----  \n",
      " 0   Indeks stabilitas sistem keuangan  50 non-null     float64\n",
      " 1   IHSG                               50 non-null     float64\n",
      " 2   IHPR                               50 non-null     float64\n",
      " 3   Perkembangan Kredit                50 non-null     float64\n",
      " 4   Kurs                               50 non-null     float64\n",
      " 5   Jumlah uang  beredar               50 non-null     float64\n",
      "dtypes: float64(6)\n",
      "memory usage: 2.5 KB\n"
     ]
    }
   ],
   "source": [
    "#Memahami info masing-masing variabel\n",
    "data.info()"
   ]
  },
  {
   "cell_type": "code",
   "execution_count": 6,
   "metadata": {
    "id": "5jw1Z5G8V9Tc",
    "outputId": "975de8b0-64c4-4fd3-c05f-485726d09dd5"
   },
   "outputs": [
    {
     "data": {
      "text/html": [
       "<div>\n",
       "<style scoped>\n",
       "    .dataframe tbody tr th:only-of-type {\n",
       "        vertical-align: middle;\n",
       "    }\n",
       "\n",
       "    .dataframe tbody tr th {\n",
       "        vertical-align: top;\n",
       "    }\n",
       "\n",
       "    .dataframe thead th {\n",
       "        text-align: right;\n",
       "    }\n",
       "</style>\n",
       "<table border=\"1\" class=\"dataframe\">\n",
       "  <thead>\n",
       "    <tr style=\"text-align: right;\">\n",
       "      <th></th>\n",
       "      <th>Indeks stabilitas sistem keuangan</th>\n",
       "      <th>IHSG</th>\n",
       "      <th>IHPR</th>\n",
       "      <th>Perkembangan Kredit</th>\n",
       "      <th>Kurs</th>\n",
       "      <th>Jumlah uang  beredar</th>\n",
       "    </tr>\n",
       "  </thead>\n",
       "  <tbody>\n",
       "    <tr>\n",
       "      <th>count</th>\n",
       "      <td>50.000000</td>\n",
       "      <td>50.000000</td>\n",
       "      <td>50.000000</td>\n",
       "      <td>50.00000</td>\n",
       "      <td>50.000000</td>\n",
       "      <td>50.000000</td>\n",
       "    </tr>\n",
       "    <tr>\n",
       "      <th>mean</th>\n",
       "      <td>0.965200</td>\n",
       "      <td>2607.165400</td>\n",
       "      <td>150.964600</td>\n",
       "      <td>1965.57500</td>\n",
       "      <td>10.201800</td>\n",
       "      <td>2179.935000</td>\n",
       "    </tr>\n",
       "    <tr>\n",
       "      <th>std</th>\n",
       "      <td>0.141078</td>\n",
       "      <td>1907.860695</td>\n",
       "      <td>21.987873</td>\n",
       "      <td>4086.69641</td>\n",
       "      <td>1.816446</td>\n",
       "      <td>1470.262341</td>\n",
       "    </tr>\n",
       "    <tr>\n",
       "      <th>min</th>\n",
       "      <td>0.700000</td>\n",
       "      <td>366.670000</td>\n",
       "      <td>121.000000</td>\n",
       "      <td>133.03000</td>\n",
       "      <td>7.230000</td>\n",
       "      <td>216.370000</td>\n",
       "    </tr>\n",
       "    <tr>\n",
       "      <th>25%</th>\n",
       "      <td>0.902500</td>\n",
       "      <td>603.585000</td>\n",
       "      <td>136.260000</td>\n",
       "      <td>308.79250</td>\n",
       "      <td>9.005000</td>\n",
       "      <td>880.702500</td>\n",
       "    </tr>\n",
       "    <tr>\n",
       "      <th>50%</th>\n",
       "      <td>0.980000</td>\n",
       "      <td>2622.020000</td>\n",
       "      <td>144.495000</td>\n",
       "      <td>1188.19000</td>\n",
       "      <td>9.610000</td>\n",
       "      <td>1784.050000</td>\n",
       "    </tr>\n",
       "    <tr>\n",
       "      <th>75%</th>\n",
       "      <td>1.060000</td>\n",
       "      <td>4367.180000</td>\n",
       "      <td>157.137500</td>\n",
       "      <td>2450.83250</td>\n",
       "      <td>11.577500</td>\n",
       "      <td>3372.795000</td>\n",
       "    </tr>\n",
       "    <tr>\n",
       "      <th>max</th>\n",
       "      <td>1.240000</td>\n",
       "      <td>5419.450000</td>\n",
       "      <td>194.540000</td>\n",
       "      <td>29004.09000</td>\n",
       "      <td>14.060000</td>\n",
       "      <td>4884.040000</td>\n",
       "    </tr>\n",
       "  </tbody>\n",
       "</table>\n",
       "</div>"
      ],
      "text/plain": [
       "       Indeks stabilitas sistem keuangan         IHSG        IHPR  \\\n",
       "count                          50.000000    50.000000   50.000000   \n",
       "mean                            0.965200  2607.165400  150.964600   \n",
       "std                             0.141078  1907.860695   21.987873   \n",
       "min                             0.700000   366.670000  121.000000   \n",
       "25%                             0.902500   603.585000  136.260000   \n",
       "50%                             0.980000  2622.020000  144.495000   \n",
       "75%                             1.060000  4367.180000  157.137500   \n",
       "max                             1.240000  5419.450000  194.540000   \n",
       "\n",
       "       Perkembangan Kredit       Kurs  Jumlah uang  beredar  \n",
       "count             50.00000  50.000000             50.000000  \n",
       "mean            1965.57500  10.201800           2179.935000  \n",
       "std             4086.69641   1.816446           1470.262341  \n",
       "min              133.03000   7.230000            216.370000  \n",
       "25%              308.79250   9.005000            880.702500  \n",
       "50%             1188.19000   9.610000           1784.050000  \n",
       "75%             2450.83250  11.577500           3372.795000  \n",
       "max            29004.09000  14.060000           4884.040000  "
      ]
     },
     "execution_count": 6,
     "metadata": {},
     "output_type": "execute_result"
    }
   ],
   "source": [
    "#Melihat ringkasan 5 angka dari data\n",
    "data.describe()"
   ]
  },
  {
   "cell_type": "markdown",
   "metadata": {
    "id": "Rxq78jGnV9Te"
   },
   "source": [
    "### Data Preprocessing"
   ]
  },
  {
   "cell_type": "markdown",
   "metadata": {
    "id": "g2PIc3UVV9Tg"
   },
   "source": [
    "#### Cek Tipe Data"
   ]
  },
  {
   "cell_type": "code",
   "execution_count": 7,
   "metadata": {
    "id": "_WyKmzK0V9Th",
    "outputId": "cfd51597-4065-4863-f303-1a25efeaf498"
   },
   "outputs": [
    {
     "data": {
      "text/plain": [
       "Indeks stabilitas sistem keuangan    float64\n",
       "IHSG                                 float64\n",
       "IHPR                                 float64\n",
       "Perkembangan Kredit                  float64\n",
       "Kurs                                 float64\n",
       "Jumlah uang  beredar                 float64\n",
       "dtype: object"
      ]
     },
     "execution_count": 7,
     "metadata": {},
     "output_type": "execute_result"
    }
   ],
   "source": [
    "data.dtypes"
   ]
  },
  {
   "cell_type": "markdown",
   "metadata": {
    "id": "Iz8_sAOFV9Tj"
   },
   "source": [
    "#### Cek Duplikat data"
   ]
  },
  {
   "cell_type": "code",
   "execution_count": 8,
   "metadata": {
    "id": "6PRYSW9WV9Tk",
    "outputId": "f66986e4-b151-422d-b9dc-55cce76c6660"
   },
   "outputs": [
    {
     "data": {
      "text/plain": [
       "(50, 6)"
      ]
     },
     "execution_count": 8,
     "metadata": {},
     "output_type": "execute_result"
    }
   ],
   "source": [
    "#Drop duplicate value\n",
    "data.drop_duplicates(inplace=True)\n",
    "data.shape"
   ]
  },
  {
   "cell_type": "markdown",
   "metadata": {
    "id": "4q9IDA5KV9Tl"
   },
   "source": [
    "#### Cek Missing Value"
   ]
  },
  {
   "cell_type": "code",
   "execution_count": 9,
   "metadata": {
    "id": "eZaEzH7KV9Tm",
    "outputId": "15edef91-fb08-4a65-f1b0-fae5d8cf175d"
   },
   "outputs": [
    {
     "data": {
      "text/plain": [
       "Indeks stabilitas sistem keuangan    0\n",
       "IHSG                                 0\n",
       "IHPR                                 0\n",
       "Perkembangan Kredit                  0\n",
       "Kurs                                 0\n",
       "Jumlah uang  beredar                 0\n",
       "dtype: int64"
      ]
     },
     "execution_count": 9,
     "metadata": {},
     "output_type": "execute_result"
    }
   ],
   "source": [
    "data.isnull().sum()"
   ]
  },
  {
   "cell_type": "markdown",
   "metadata": {
    "id": "aq0ryRufV9Tn"
   },
   "source": [
    "### Cek Outlier"
   ]
  },
  {
   "cell_type": "code",
   "execution_count": 10,
   "metadata": {
    "id": "HHdfxDlXV9To",
    "outputId": "901e6276-3608-4843-87cc-42742c914ebb"
   },
   "outputs": [
    {
     "name": "stderr",
     "output_type": "stream",
     "text": [
      "C:\\Users\\LENOVO\\anaconda3\\lib\\site-packages\\seaborn\\_decorators.py:36: FutureWarning: Pass the following variable as a keyword arg: x. From version 0.12, the only valid positional argument will be `data`, and passing other arguments without an explicit keyword will result in an error or misinterpretation.\n",
      "  warnings.warn(\n"
     ]
    },
    {
     "data": {
      "text/plain": [
       "<AxesSubplot:xlabel='Indeks stabilitas sistem keuangan'>"
      ]
     },
     "execution_count": 10,
     "metadata": {},
     "output_type": "execute_result"
    },
    {
     "data": {
      "image/png": "[encoded data removed]",
      "text/plain": [
       "<Figure size 432x288 with 1 Axes>"
      ]
     },
     "metadata": {
      "needs_background": "light"
     },
     "output_type": "display_data"
    }
   ],
   "source": [
    "sns.boxplot(data[\"Indeks stabilitas sistem keuangan\"])"
   ]
  },
  {
   "cell_type": "code",
   "execution_count": 11,
   "metadata": {
    "id": "EK0zSiEJV9Tp",
    "outputId": "14e1e99b-3a3d-4553-e3fd-bd138cf7d522"
   },
   "outputs": [
    {
     "name": "stderr",
     "output_type": "stream",
     "text": [
      "C:\\Users\\LENOVO\\anaconda3\\lib\\site-packages\\seaborn\\_decorators.py:36: FutureWarning: Pass the following variable as a keyword arg: x. From version 0.12, the only valid positional argument will be `data`, and passing other arguments without an explicit keyword will result in an error or misinterpretation.\n",
      "  warnings.warn(\n"
     ]
    },
    {
     "data": {
      "text/plain": [
       "<AxesSubplot:xlabel='IHSG'>"
      ]
     },
     "execution_count": 11,
     "metadata": {},
     "output_type": "execute_result"
    },
    {
     "data": {
      "image/png": "[encoded data removed]",
      "text/plain": [
       "<Figure size 432x288 with 1 Axes>"
      ]
     },
     "metadata": {
      "needs_background": "light"
     },
     "output_type": "display_data"
    }
   ],
   "source": [
    "sns.boxplot(data[\"IHSG\"])"
   ]
  },
  {
   "cell_type": "code",
   "execution_count": 12,
   "metadata": {
    "id": "40AWVcySV9Tq",
    "outputId": "9a82cba5-cc87-4428-c7c6-ff14aa991ecd"
   },
   "outputs": [
    {
     "name": "stderr",
     "output_type": "stream",
     "text": [
      "C:\\Users\\LENOVO\\anaconda3\\lib\\site-packages\\seaborn\\_decorators.py:36: FutureWarning: Pass the following variable as a keyword arg: x. From version 0.12, the only valid positional argument will be `data`, and passing other arguments without an explicit keyword will result in an error or misinterpretation.\n",
      "  warnings.warn(\n"
     ]
    },
    {
     "data": {
      "text/plain": [
       "<AxesSubplot:xlabel='IHPR'>"
      ]
     },
     "execution_count": 12,
     "metadata": {},
     "output_type": "execute_result"
    },
    {
     "data": {
      "image/png": "[encoded data removed]",
      "text/plain": [
       "<Figure size 432x288 with 1 Axes>"
      ]
     },
     "metadata": {
      "needs_background": "light"
     },
     "output_type": "display_data"
    }
   ],
   "source": [
    "sns.boxplot(data[\"IHPR\"])"
   ]
  },
  {
   "cell_type": "code",
   "execution_count": 13,
   "metadata": {
    "id": "iWuY2JS_V9Tr",
    "outputId": "b1430555-a3a6-4407-de4e-1510eea0d163"
   },
   "outputs": [
    {
     "name": "stderr",
     "output_type": "stream",
     "text": [
      "C:\\Users\\LENOVO\\anaconda3\\lib\\site-packages\\seaborn\\_decorators.py:36: FutureWarning: Pass the following variable as a keyword arg: x. From version 0.12, the only valid positional argument will be `data`, and passing other arguments without an explicit keyword will result in an error or misinterpretation.\n",
      "  warnings.warn(\n"
     ]
    },
    {
     "data": {
      "text/plain": [
       "<AxesSubplot:xlabel='Perkembangan Kredit'>"
      ]
     },
     "execution_count": 13,
     "metadata": {},
     "output_type": "execute_result"
    },
    {
     "data": {
      "image/png": "[encoded data removed]",
      "text/plain": [
       "<Figure size 432x288 with 1 Axes>"
      ]
     },
     "metadata": {
      "needs_background": "light"
     },
     "output_type": "display_data"
    }
   ],
   "source": [
    "sns.boxplot(data[\"Perkembangan Kredit\"])"
   ]
  },
  {
   "cell_type": "code",
   "execution_count": 14,
   "metadata": {
    "id": "knor96gFV9Ts",
    "outputId": "7933ac0d-3b97-47b5-9c95-2531951ead6d"
   },
   "outputs": [
    {
     "name": "stderr",
     "output_type": "stream",
     "text": [
      "C:\\Users\\LENOVO\\anaconda3\\lib\\site-packages\\seaborn\\_decorators.py:36: FutureWarning: Pass the following variable as a keyword arg: x. From version 0.12, the only valid positional argument will be `data`, and passing other arguments without an explicit keyword will result in an error or misinterpretation.\n",
      "  warnings.warn(\n"
     ]
    },
    {
     "data": {
      "text/plain": [
       "<AxesSubplot:xlabel='Kurs'>"
      ]
     },
     "execution_count": 14,
     "metadata": {},
     "output_type": "execute_result"
    },
    {
     "data": {
      "image/png": "[encoded data removed]",
      "text/plain": [
       "<Figure size 432x288 with 1 Axes>"
      ]
     },
     "metadata": {
      "needs_background": "light"
     },
     "output_type": "display_data"
    }
   ],
   "source": [
    "sns.boxplot(data[\"Kurs\"])"
   ]
  },
  {
   "cell_type": "code",
   "execution_count": 15,
   "metadata": {
    "id": "XdvCyEPtV9Tt",
    "outputId": "e84eb2eb-c34b-4401-f5df-46c6112f8e00"
   },
   "outputs": [
    {
     "name": "stderr",
     "output_type": "stream",
     "text": [
      "C:\\Users\\LENOVO\\anaconda3\\lib\\site-packages\\seaborn\\_decorators.py:36: FutureWarning: Pass the following variable as a keyword arg: x. From version 0.12, the only valid positional argument will be `data`, and passing other arguments without an explicit keyword will result in an error or misinterpretation.\n",
      "  warnings.warn(\n"
     ]
    },
    {
     "data": {
      "text/plain": [
       "<AxesSubplot:xlabel='Jumlah uang  beredar'>"
      ]
     },
     "execution_count": 15,
     "metadata": {},
     "output_type": "execute_result"
    },
    {
     "data": {
      "image/png": "[encoded data removed]",
      "text/plain": [
       "<Figure size 432x288 with 1 Axes>"
      ]
     },
     "metadata": {
      "needs_background": "light"
     },
     "output_type": "display_data"
    }
   ],
   "source": [
    "sns.boxplot(data[\"Jumlah uang  beredar\"])"
   ]
  },
  {
   "cell_type": "code",
   "execution_count": 16,
   "metadata": {
    "id": "hfhkZdtJV9Tt"
   },
   "outputs": [],
   "source": [
    "#membuat fungsi untuk mendeteksi outlier dengan lower bound dan upper bound\n",
    "def outlier(sample):\n",
    "    Q1=sample.quantile(0.25)\n",
    "    Q3=sample.quantile(0.75)\n",
    "    IQR=Q3-Q1\n",
    "    lower_range = Q1 -(1.5 * IQR)\n",
    "    upper_range = Q3 +(1.5 * IQR)\n",
    "    number_outlier=len(sample[sample>upper_range])+len(sample[sample<lower_range])\n",
    "    print(\"Number of Outlier {}\".format(number_outlier))\n",
    "    if number_outlier>0:\n",
    "        print(\"Outlier observation row:\")\n",
    "    else:\n",
    "        pass\n",
    "    for i in range(len(sample)):\n",
    "        if sample[i]<lower_range: \n",
    "            print(i)\n",
    "        elif sample[i]>upper_range:\n",
    "            print(i)\n",
    "        else:\n",
    "            pass"
   ]
  },
  {
   "cell_type": "code",
   "execution_count": 17,
   "metadata": {
    "id": "LCuDM02wV9Tv",
    "outputId": "b507666d-7693-4d9c-aefc-f6508fde1506"
   },
   "outputs": [
    {
     "name": "stdout",
     "output_type": "stream",
     "text": [
      "Number of Outlier 6\n",
      "Outlier observation row:\n",
      "8\n",
      "9\n",
      "11\n",
      "27\n",
      "30\n",
      "42\n"
     ]
    }
   ],
   "source": [
    "outlier(data[\"IHPR\"])"
   ]
  },
  {
   "cell_type": "code",
   "execution_count": 18,
   "metadata": {
    "id": "cn4s-G89V9Tw",
    "outputId": "246d56d9-f62a-4fe4-c6ce-c7155227ee9d"
   },
   "outputs": [
    {
     "data": {
      "text/plain": [
       "8     191.90\n",
       "9     190.02\n",
       "11    193.13\n",
       "27    194.54\n",
       "30    188.55\n",
       "42    193.83\n",
       "Name: IHPR, dtype: float64"
      ]
     },
     "execution_count": 18,
     "metadata": {},
     "output_type": "execute_result"
    }
   ],
   "source": [
    "data.loc[[8,9,11,27,30,42],\"IHPR\"]"
   ]
  },
  {
   "cell_type": "code",
   "execution_count": 19,
   "metadata": {
    "id": "2KXSkuxzV9Tw",
    "outputId": "4fef2a1f-649a-48eb-ae72-59de9cb83835"
   },
   "outputs": [
    {
     "name": "stdout",
     "output_type": "stream",
     "text": [
      "Number of Outlier 1\n",
      "Outlier observation row:\n",
      "39\n"
     ]
    }
   ],
   "source": [
    "outlier(data[\"Perkembangan Kredit\"])"
   ]
  },
  {
   "cell_type": "code",
   "execution_count": 20,
   "metadata": {
    "id": "azQ0BHLvV9Ty",
    "outputId": "938efdba-5a71-4594-c536-aa03d3297733"
   },
   "outputs": [
    {
     "data": {
      "text/plain": [
       "29004.09"
      ]
     },
     "execution_count": 20,
     "metadata": {},
     "output_type": "execute_result"
    }
   ],
   "source": [
    "data.loc[39,\"Perkembangan Kredit\"]"
   ]
  },
  {
   "cell_type": "markdown",
   "metadata": {
    "id": "NkSYComkV9T0"
   },
   "source": [
    "#### Melihat Korelasi antar variabel"
   ]
  },
  {
   "cell_type": "code",
   "execution_count": 21,
   "metadata": {
    "id": "yrfppms6V9T1",
    "outputId": "d2a0ee70-77bb-4ae0-8320-87cf9d4c8d9e"
   },
   "outputs": [
    {
     "data": {
      "text/plain": [
       "<AxesSubplot:>"
      ]
     },
     "execution_count": 21,
     "metadata": {},
     "output_type": "execute_result"
    },
    {
     "data": {
      "image/png": "[encoded data removed]",
      "text/plain": [
       "<Figure size 864x576 with 2 Axes>"
      ]
     },
     "metadata": {
      "needs_background": "light"
     },
     "output_type": "display_data"
    }
   ],
   "source": [
    "cor=data.corr()\n",
    "plt.figure(figsize=(12,8))\n",
    "sns.heatmap(cor,annot=True,vmin=-1,vmax=1)"
   ]
  },
  {
   "cell_type": "code",
   "execution_count": 22,
   "metadata": {
    "id": "nb0Kg8QjV9T2",
    "outputId": "3929f3e6-6d30-4a36-d5c3-32cfc37f9427"
   },
   "outputs": [
    {
     "data": {
      "text/plain": [
       "<seaborn.axisgrid.PairGrid at 0x2602ad47e20>"
      ]
     },
     "execution_count": 22,
     "metadata": {},
     "output_type": "execute_result"
    },
    {
     "data": {
      "image/png": "[encoded data removed]",
      "text/plain": [
       "<Figure size 1080x1080 with 42 Axes>"
      ]
     },
     "metadata": {
      "needs_background": "light"
     },
     "output_type": "display_data"
    }
   ],
   "source": [
    "sns.pairplot(data=data)"
   ]
  },
  {
   "cell_type": "markdown",
   "metadata": {
    "id": "NQ4glHpzV9T3"
   },
   "source": [
    "#### Feature Scalling"
   ]
  },
  {
   "cell_type": "code",
   "execution_count": 23,
   "metadata": {
    "id": "6LQO0OL9V9T4"
   },
   "outputs": [],
   "source": [
    "from sklearn.preprocessing import StandardScaler\n",
    "\n",
    "#Memisah variabel dependen dan independen\n",
    "y=data[\"Indeks stabilitas sistem keuangan\"]\n",
    "x=data.iloc[:,1:]\n",
    "\n",
    "#Standarisasi pada variabel independen\n",
    "scale=StandardScaler()\n",
    "x=scale.fit_transform(x)\n",
    "x=pd.DataFrame(data=x,columns=[\"IHSG\",\"IHPR\",\"Perkembangan Kredit\",\"Kurs\",\"Jumlah uang  beredar\"])"
   ]
  },
  {
   "cell_type": "markdown",
   "metadata": {
    "id": "NwDe0tjmV9T8"
   },
   "source": [
    "#### Partisi Data"
   ]
  },
  {
   "cell_type": "code",
   "execution_count": 24,
   "metadata": {
    "id": "xeZEGoDCV9T_"
   },
   "outputs": [],
   "source": [
    "from sklearn.model_selection import train_test_split\n",
    "X_train, X_test, y_train, y_test = train_test_split(x, y, test_size=0.2, random_state=42)"
   ]
  },
  {
   "cell_type": "markdown",
   "metadata": {
    "id": "KZUTo2B3V9UB"
   },
   "source": [
    "### Modeling"
   ]
  },
  {
   "cell_type": "code",
   "execution_count": 25,
   "metadata": {
    "id": "Z81vrz2lV9UC"
   },
   "outputs": [],
   "source": [
    "import statsmodels.api as sm\n",
    "from statsmodels.stats.outliers_influence import variance_inflation_factor\n",
    "from scipy import stats"
   ]
  },
  {
   "cell_type": "markdown",
   "metadata": {
    "id": "yGxq5lE4V9UD"
   },
   "source": [
    "#### Regresi Linear"
   ]
  },
  {
   "cell_type": "code",
   "execution_count": 26,
   "metadata": {
    "id": "XsWzbzUNV9UD"
   },
   "outputs": [],
   "source": [
    "X_train2 = sm.add_constant(X_train)\n",
    "est = sm.OLS(y_train, X_train2)\n",
    "est2 = est.fit()"
   ]
  },
  {
   "cell_type": "code",
   "execution_count": 27,
   "metadata": {
    "id": "quSpkOeuV9UE",
    "outputId": "861d42a6-67cf-4fce-a2d9-5c67299ded0f"
   },
   "outputs": [
    {
     "name": "stdout",
     "output_type": "stream",
     "text": [
      "                                    OLS Regression Results                                   \n",
      "=============================================================================================\n",
      "Dep. Variable:     Indeks stabilitas sistem keuangan   R-squared:                       0.758\n",
      "Model:                                           OLS   Adj. R-squared:                  0.722\n",
      "Method:                                Least Squares   F-statistic:                     21.26\n",
      "Date:                               Sat, 10 Apr 2021   Prob (F-statistic):           1.36e-09\n",
      "Time:                                       14:26:10   Log-Likelihood:                 51.058\n",
      "No. Observations:                                 40   AIC:                            -90.12\n",
      "Df Residuals:                                     34   BIC:                            -79.98\n",
      "Df Model:                                          5                                         \n",
      "Covariance Type:                           nonrobust                                         \n",
      "========================================================================================\n",
      "                           coef    std err          t      P>|t|      [0.025      0.975]\n",
      "----------------------------------------------------------------------------------------\n",
      "const                    0.8321      0.048     17.385      0.000       0.735       0.929\n",
      "IHSG                     0.1745      0.075      2.330      0.026       0.022       0.327\n",
      "IHPR                    -0.0578      0.034     -1.675      0.103      -0.128       0.012\n",
      "Perkembangan Kredit     -0.9630      0.363     -2.650      0.012      -1.701      -0.225\n",
      "Kurs                     0.1612      0.056      2.875      0.007       0.047       0.275\n",
      "Jumlah uang  beredar    -0.0929      0.057     -1.622      0.114      -0.209       0.024\n",
      "==============================================================================\n",
      "Omnibus:                        5.057   Durbin-Watson:                   1.468\n",
      "Prob(Omnibus):                  0.080   Jarque-Bera (JB):                4.005\n",
      "Skew:                           0.760   Prob(JB):                        0.135\n",
      "Kurtosis:                       3.308   Cond. No.                         62.6\n",
      "==============================================================================\n",
      "\n",
      "Notes:\n",
      "[1] Standard Errors assume that the covariance matrix of the errors is correctly specified.\n"
     ]
    }
   ],
   "source": [
    "print(est2.summary())"
   ]
  },
  {
   "cell_type": "code",
   "execution_count": 28,
   "metadata": {
    "id": "ruFrqE5kV9UF",
    "outputId": "21f24e67-b8e8-427b-941b-17ae3dd2ab92"
   },
   "outputs": [
    {
     "name": "stdout",
     "output_type": "stream",
     "text": [
      "                                    OLS Regression Results                                   \n",
      "=============================================================================================\n",
      "Dep. Variable:     Indeks stabilitas sistem keuangan   R-squared:                       0.739\n",
      "Model:                                           OLS   Adj. R-squared:                  0.709\n",
      "Method:                                Least Squares   F-statistic:                     24.77\n",
      "Date:                               Sat, 10 Apr 2021   Prob (F-statistic):           8.65e-10\n",
      "Time:                                       14:26:11   Log-Likelihood:                 49.567\n",
      "No. Observations:                                 40   AIC:                            -89.13\n",
      "Df Residuals:                                     35   BIC:                            -80.69\n",
      "Df Model:                                          4                                         \n",
      "Covariance Type:                           nonrobust                                         \n",
      "=======================================================================================\n",
      "                          coef    std err          t      P>|t|      [0.025      0.975]\n",
      "---------------------------------------------------------------------------------------\n",
      "const                   0.8147      0.048     17.071      0.000       0.718       0.912\n",
      "IHSG                    0.1521      0.075      2.020      0.051      -0.001       0.305\n",
      "IHPR                   -0.0644      0.035     -1.839      0.074      -0.136       0.007\n",
      "Perkembangan Kredit    -1.0999      0.362     -3.042      0.004      -1.834      -0.366\n",
      "Kurs                    0.1385      0.056      2.494      0.018       0.026       0.251\n",
      "==============================================================================\n",
      "Omnibus:                        4.117   Durbin-Watson:                   1.583\n",
      "Prob(Omnibus):                  0.128   Jarque-Bera (JB):                3.388\n",
      "Skew:                           0.712   Prob(JB):                        0.184\n",
      "Kurtosis:                       3.055   Cond. No.                         52.7\n",
      "==============================================================================\n",
      "\n",
      "Notes:\n",
      "[1] Standard Errors assume that the covariance matrix of the errors is correctly specified.\n"
     ]
    }
   ],
   "source": [
    "X_train2 = sm.add_constant(X_train.drop(labels=[\"Jumlah uang  beredar\"],axis=1))\n",
    "est = sm.OLS(y_train, X_train2)\n",
    "est2 = est.fit()\n",
    "print(est2.summary())"
   ]
  },
  {
   "cell_type": "code",
   "execution_count": 29,
   "metadata": {
    "id": "CXU2V1ddV9UG",
    "outputId": "5d6dd5cd-2142-4152-ad8f-97e8e9b39c11"
   },
   "outputs": [
    {
     "name": "stdout",
     "output_type": "stream",
     "text": [
      "                                    OLS Regression Results                                   \n",
      "=============================================================================================\n",
      "Dep. Variable:     Indeks stabilitas sistem keuangan   R-squared:                       0.714\n",
      "Model:                                           OLS   Adj. R-squared:                  0.690\n",
      "Method:                                Least Squares   F-statistic:                     29.92\n",
      "Date:                               Sat, 10 Apr 2021   Prob (F-statistic):           6.96e-10\n",
      "Time:                                       14:26:11   Log-Likelihood:                 47.723\n",
      "No. Observations:                                 40   AIC:                            -87.45\n",
      "Df Residuals:                                     36   BIC:                            -80.69\n",
      "Df Model:                                          3                                         \n",
      "Covariance Type:                           nonrobust                                         \n",
      "=======================================================================================\n",
      "                          coef    std err          t      P>|t|      [0.025      0.975]\n",
      "---------------------------------------------------------------------------------------\n",
      "const                   0.7675      0.042     18.481      0.000       0.683       0.852\n",
      "IHSG                    0.2440      0.058      4.202      0.000       0.126       0.362\n",
      "Perkembangan Kredit    -1.4790      0.307     -4.823      0.000      -2.101      -0.857\n",
      "Kurs                    0.1082      0.055      1.976      0.056      -0.003       0.219\n",
      "==============================================================================\n",
      "Omnibus:                        1.314   Durbin-Watson:                   1.572\n",
      "Prob(Omnibus):                  0.518   Jarque-Bera (JB):                0.985\n",
      "Skew:                           0.382   Prob(JB):                        0.611\n",
      "Kurtosis:                       2.917   Cond. No.                         36.9\n",
      "==============================================================================\n",
      "\n",
      "Notes:\n",
      "[1] Standard Errors assume that the covariance matrix of the errors is correctly specified.\n"
     ]
    }
   ],
   "source": [
    "X_train2 = sm.add_constant(X_train.drop(labels=[\"Jumlah uang  beredar\",\"IHPR\"],axis=1))\n",
    "est = sm.OLS(y_train, X_train2)\n",
    "est2 = est.fit()\n",
    "print(est2.summary())"
   ]
  },
  {
   "cell_type": "code",
   "execution_count": 30,
   "metadata": {
    "id": "YSjS72bZV9UH",
    "outputId": "84cde7a2-d3b6-420f-a6c8-e32d37de2137"
   },
   "outputs": [
    {
     "name": "stdout",
     "output_type": "stream",
     "text": [
      "                                    OLS Regression Results                                   \n",
      "=============================================================================================\n",
      "Dep. Variable:     Indeks stabilitas sistem keuangan   R-squared:                       0.683\n",
      "Model:                                           OLS   Adj. R-squared:                  0.666\n",
      "Method:                                Least Squares   F-statistic:                     39.80\n",
      "Date:                               Sat, 10 Apr 2021   Prob (F-statistic):           5.99e-10\n",
      "Time:                                       14:26:11   Log-Likelihood:                 45.664\n",
      "No. Observations:                                 40   AIC:                            -85.33\n",
      "Df Residuals:                                     37   BIC:                            -80.26\n",
      "Df Model:                                          2                                         \n",
      "Covariance Type:                           nonrobust                                         \n",
      "=======================================================================================\n",
      "                          coef    std err          t      P>|t|      [0.025      0.975]\n",
      "---------------------------------------------------------------------------------------\n",
      "const                   0.8311      0.027     30.524      0.000       0.776       0.886\n",
      "IHSG                    0.1992      0.056      3.588      0.001       0.087       0.312\n",
      "Perkembangan Kredit    -0.9838      0.184     -5.360      0.000      -1.356      -0.612\n",
      "==============================================================================\n",
      "Omnibus:                        2.862   Durbin-Watson:                   1.531\n",
      "Prob(Omnibus):                  0.239   Jarque-Bera (JB):                2.428\n",
      "Skew:                           0.599   Prob(JB):                        0.297\n",
      "Kurtosis:                       2.860   Cond. No.                         15.9\n",
      "==============================================================================\n",
      "\n",
      "Notes:\n",
      "[1] Standard Errors assume that the covariance matrix of the errors is correctly specified.\n"
     ]
    }
   ],
   "source": [
    "X_train2 = sm.add_constant(X_train.drop(labels=[\"Jumlah uang  beredar\",\"IHPR\",\"Kurs\"],axis=1))\n",
    "est = sm.OLS(y_train, X_train2)\n",
    "est2 = est.fit()\n",
    "print(est2.summary())"
   ]
  },
  {
   "cell_type": "code",
   "execution_count": 31,
   "metadata": {
    "id": "9Ey6sUxFV9UH",
    "outputId": "7801f1f0-ebd6-4927-9836-431005e1c6c9"
   },
   "outputs": [
    {
     "data": {
      "text/html": [
       "<div>\n",
       "<style scoped>\n",
       "    .dataframe tbody tr th:only-of-type {\n",
       "        vertical-align: middle;\n",
       "    }\n",
       "\n",
       "    .dataframe tbody tr th {\n",
       "        vertical-align: top;\n",
       "    }\n",
       "\n",
       "    .dataframe thead th {\n",
       "        text-align: right;\n",
       "    }\n",
       "</style>\n",
       "<table border=\"1\" class=\"dataframe\">\n",
       "  <thead>\n",
       "    <tr style=\"text-align: right;\">\n",
       "      <th></th>\n",
       "      <th>lb_stat</th>\n",
       "      <th>lb_pvalue</th>\n",
       "    </tr>\n",
       "  </thead>\n",
       "  <tbody>\n",
       "    <tr>\n",
       "      <th>20</th>\n",
       "      <td>22.180794</td>\n",
       "      <td>0.330781</td>\n",
       "    </tr>\n",
       "  </tbody>\n",
       "</table>\n",
       "</div>"
      ],
      "text/plain": [
       "      lb_stat  lb_pvalue\n",
       "20  22.180794   0.330781"
      ]
     },
     "execution_count": 31,
     "metadata": {},
     "output_type": "execute_result"
    }
   ],
   "source": [
    "#Cek autokorelasi\n",
    "import statsmodels.api as sm\n",
    "residual=est2.resid\n",
    "sm.stats.diagnostic.acorr_ljungbox(residual,lags=[20],return_df=True)"
   ]
  },
  {
   "cell_type": "code",
   "execution_count": 32,
   "metadata": {
    "id": "Ke0kkuJmV9UI",
    "outputId": "aa330709-fff8-408b-d68c-9fe78c444217"
   },
   "outputs": [
    {
     "data": {
      "text/html": [
       "<div>\n",
       "<style scoped>\n",
       "    .dataframe tbody tr th:only-of-type {\n",
       "        vertical-align: middle;\n",
       "    }\n",
       "\n",
       "    .dataframe tbody tr th {\n",
       "        vertical-align: top;\n",
       "    }\n",
       "\n",
       "    .dataframe thead th {\n",
       "        text-align: right;\n",
       "    }\n",
       "</style>\n",
       "<table border=\"1\" class=\"dataframe\">\n",
       "  <thead>\n",
       "    <tr style=\"text-align: right;\">\n",
       "      <th></th>\n",
       "      <th>VIF Factor</th>\n",
       "      <th>features</th>\n",
       "    </tr>\n",
       "  </thead>\n",
       "  <tbody>\n",
       "    <tr>\n",
       "      <th>0</th>\n",
       "      <td>4.883456</td>\n",
       "      <td>IHSG</td>\n",
       "    </tr>\n",
       "    <tr>\n",
       "      <th>1</th>\n",
       "      <td>4.883456</td>\n",
       "      <td>Perkembangan Kredit</td>\n",
       "    </tr>\n",
       "  </tbody>\n",
       "</table>\n",
       "</div>"
      ],
      "text/plain": [
       "   VIF Factor             features\n",
       "0    4.883456                 IHSG\n",
       "1    4.883456  Perkembangan Kredit"
      ]
     },
     "execution_count": 32,
     "metadata": {},
     "output_type": "execute_result"
    }
   ],
   "source": [
    "#Cek Multikolinearitas\n",
    "vif = pd.DataFrame()\n",
    "vif[\"VIF Factor\"] = [variance_inflation_factor(X_train.drop(labels=[\"Jumlah uang  beredar\",\n",
    "                                                                    \"IHPR\",\"Kurs\"],axis=1).values, i) for i in range(X_train.drop(labels=[\"Jumlah uang  beredar\",\n",
    "                                                                                                                                          \"IHPR\",\"Kurs\"],axis=1).shape[1])]\n",
    "vif[\"features\"] = X_train.drop(labels=[\"Jumlah uang  beredar\",\"IHPR\",\"Kurs\"],axis=1).columns\n",
    "vif"
   ]
  },
  {
   "cell_type": "code",
   "execution_count": 33,
   "metadata": {
    "id": "KwHGn68iV9UJ",
    "outputId": "6f70206e-6695-4adf-f9e4-b84ac506c6e7"
   },
   "outputs": [
    {
     "name": "stdout",
     "output_type": "stream",
     "text": [
      "{'LM Statistic': 7.487258634510097, 'LM-Test p-value': 0.023668048209697486, 'F-Statistic': 4.260307772308011, 'F-Test p-value': 0.021621288035320114}\n"
     ]
    }
   ],
   "source": [
    "#Cek Homoskesdastisitas\n",
    "bp_test=sm.stats.diagnostic.het_breuschpagan(residual,est2.model.exog)\n",
    "labels = [\"LM Statistic\", \"LM-Test p-value\", \"F-Statistic\", \"F-Test p-value\"]\n",
    "print(dict(zip(labels, bp_test)))"
   ]
  },
  {
   "cell_type": "markdown",
   "metadata": {
    "id": "Ri08SB7hV9UK"
   },
   "source": [
    "#### Evaluasi Model"
   ]
  },
  {
   "cell_type": "code",
   "execution_count": 34,
   "metadata": {
    "id": "0OdipiiTV9UL",
    "outputId": "e15774cb-f218-464b-89ad-4860aff12861"
   },
   "outputs": [
    {
     "data": {
      "text/plain": [
       "4.087424830993152"
      ]
     },
     "execution_count": 34,
     "metadata": {},
     "output_type": "execute_result"
    }
   ],
   "source": [
    "from sklearn.metrics import mean_squared_error\n",
    "pred_lr=est2.predict(sm.add_constant(X_test.drop(labels=[\"Jumlah uang  beredar\",\"IHPR\",\"Kurs\"],axis=1)))\n",
    "mean_squared_error(y_test,pred_lr)"
   ]
  },
  {
   "cell_type": "markdown",
   "metadata": {
    "id": "7GdVF9zDV9UM"
   },
   "source": [
    "### Regresi Ridge"
   ]
  },
  {
   "cell_type": "code",
   "execution_count": 35,
   "metadata": {
    "id": "NJEa5ocFV9UM",
    "outputId": "37051daf-d314-4072-c1b6-68a1ae02bb02"
   },
   "outputs": [
    {
     "data": {
      "text/html": [
       "<div>\n",
       "<style scoped>\n",
       "    .dataframe tbody tr th:only-of-type {\n",
       "        vertical-align: middle;\n",
       "    }\n",
       "\n",
       "    .dataframe tbody tr th {\n",
       "        vertical-align: top;\n",
       "    }\n",
       "\n",
       "    .dataframe thead th {\n",
       "        text-align: right;\n",
       "    }\n",
       "</style>\n",
       "<table border=\"1\" class=\"dataframe\">\n",
       "  <thead>\n",
       "    <tr style=\"text-align: right;\">\n",
       "      <th></th>\n",
       "      <th>VIF Factor</th>\n",
       "      <th>features</th>\n",
       "    </tr>\n",
       "  </thead>\n",
       "  <tbody>\n",
       "    <tr>\n",
       "      <th>0</th>\n",
       "      <td>15.949809</td>\n",
       "      <td>IHSG</td>\n",
       "    </tr>\n",
       "    <tr>\n",
       "      <th>1</th>\n",
       "      <td>6.639688</td>\n",
       "      <td>IHPR</td>\n",
       "    </tr>\n",
       "    <tr>\n",
       "      <th>2</th>\n",
       "      <td>6.229725</td>\n",
       "      <td>Perkembangan Kredit</td>\n",
       "    </tr>\n",
       "    <tr>\n",
       "      <th>3</th>\n",
       "      <td>20.474934</td>\n",
       "      <td>Kurs</td>\n",
       "    </tr>\n",
       "    <tr>\n",
       "      <th>4</th>\n",
       "      <td>23.468013</td>\n",
       "      <td>Jumlah uang  beredar</td>\n",
       "    </tr>\n",
       "  </tbody>\n",
       "</table>\n",
       "</div>"
      ],
      "text/plain": [
       "   VIF Factor              features\n",
       "0   15.949809                  IHSG\n",
       "1    6.639688                  IHPR\n",
       "2    6.229725   Perkembangan Kredit\n",
       "3   20.474934                  Kurs\n",
       "4   23.468013  Jumlah uang  beredar"
      ]
     },
     "execution_count": 35,
     "metadata": {},
     "output_type": "execute_result"
    }
   ],
   "source": [
    "#Cek Multikolinearitas\n",
    "vif = pd.DataFrame()\n",
    "vif[\"VIF Factor\"] = [variance_inflation_factor(X_train.values, i) for i in range(X_train.shape[1])]\n",
    "vif[\"features\"] = X_train.columns\n",
    "vif"
   ]
  },
  {
   "cell_type": "code",
   "execution_count": 36,
   "metadata": {
    "id": "tiD0euCiV9UO"
   },
   "outputs": [],
   "source": [
    "#Melihat Keunggulan Ridge\n",
    "from sklearn.linear_model import Ridge\n",
    "coef=[]\n",
    "alphas = range(0,40)\n",
    "\n",
    "for a in alphas:\n",
    "  ridgereg=Ridge(alpha=a)\n",
    "  ridgereg.fit(X_train,y_train)\n",
    "  coef.append(ridgereg.coef_)"
   ]
  },
  {
   "cell_type": "code",
   "execution_count": 37,
   "metadata": {
    "id": "l9pVCHhlV9UO",
    "outputId": "0c619434-f93f-49f1-a8b0-20ed84bb98b5"
   },
   "outputs": [
    {
     "data": {
      "image/png": "[encoded data removed]",
      "text/plain": [
       "<Figure size 1080x360 with 1 Axes>"
      ]
     },
     "metadata": {
      "needs_background": "light"
     },
     "output_type": "display_data"
    }
   ],
   "source": [
    "###Membuat plot antara alpha dan koefisien\n",
    "fig=plt.figure(figsize=(15,5))\n",
    "ax=fig.add_subplot(111)\n",
    "ax.plot(alphas,coef)\n",
    "ax.set_xlabel('Alpha (Regularization Parameter)')\n",
    "ax.set_ylabel('Beta (Predictor Coefficients)')\n",
    "ax.set_title('Ridge Coefficients vs Regularization Parameters')\n",
    "ax.axis('tight')\n",
    "###ax.legend(loc='best')\n",
    "fig.savefig('coef_vs_alpha.png')"
   ]
  },
  {
   "cell_type": "code",
   "execution_count": 38,
   "metadata": {
    "id": "6RvGKlqHV9UQ",
    "outputId": "414723af-5c81-47a1-a2fd-ed7b403d126a"
   },
   "outputs": [
    {
     "name": "stdout",
     "output_type": "stream",
     "text": [
      "1\n",
      "0.9507083375490761\n",
      "[ 0.01169928 -0.08888263 -0.0396696   0.05181744 -0.07637162]\n"
     ]
    }
   ],
   "source": [
    "#Membangun model regresi ridge dengan nilai alpha terbaik\n",
    "from sklearn.linear_model import RidgeCV\n",
    "regr_cv=RidgeCV(alphas=range(1,40))\n",
    "model_cv=regr_cv.fit(X_train,y_train)\n",
    "\n",
    "#alpha terbaik\n",
    "print(model_cv.alpha_)\n",
    "\n",
    "#Parameter regresi ridge\n",
    "print(model_cv.intercept_)\n",
    "print(model_cv.coef_)"
   ]
  },
  {
   "cell_type": "code",
   "execution_count": 39,
   "metadata": {
    "id": "qpqdI774V9US",
    "outputId": "def75069-11e1-40fd-b84e-6504feed6564"
   },
   "outputs": [
    {
     "data": {
      "text/html": [
       "<div>\n",
       "<style scoped>\n",
       "    .dataframe tbody tr th:only-of-type {\n",
       "        vertical-align: middle;\n",
       "    }\n",
       "\n",
       "    .dataframe tbody tr th {\n",
       "        vertical-align: top;\n",
       "    }\n",
       "\n",
       "    .dataframe thead th {\n",
       "        text-align: right;\n",
       "    }\n",
       "</style>\n",
       "<table border=\"1\" class=\"dataframe\">\n",
       "  <thead>\n",
       "    <tr style=\"text-align: right;\">\n",
       "      <th></th>\n",
       "      <th>lb_stat</th>\n",
       "      <th>lb_pvalue</th>\n",
       "    </tr>\n",
       "  </thead>\n",
       "  <tbody>\n",
       "    <tr>\n",
       "      <th>20</th>\n",
       "      <td>35.373701</td>\n",
       "      <td>0.018202</td>\n",
       "    </tr>\n",
       "  </tbody>\n",
       "</table>\n",
       "</div>"
      ],
      "text/plain": [
       "      lb_stat  lb_pvalue\n",
       "20  35.373701   0.018202"
      ]
     },
     "execution_count": 39,
     "metadata": {},
     "output_type": "execute_result"
    }
   ],
   "source": [
    "#Cek autokorelasi\n",
    "import statsmodels.api as sm\n",
    "residual1=y_train-(model_cv.predict(X_train))\n",
    "sm.stats.diagnostic.acorr_ljungbox(residual1,lags=[20],return_df=True)"
   ]
  },
  {
   "cell_type": "code",
   "execution_count": 40,
   "metadata": {
    "id": "eh6dvQpgV9UW",
    "outputId": "2a9a300b-434d-4ee5-8c42-87b14d577270"
   },
   "outputs": [
    {
     "name": "stdout",
     "output_type": "stream",
     "text": [
      "{'LM Statistic': 19.528144680031573, 'LM-Test p-value': 0.0006187195937999505, 'F-Statistic': 6.677314323674685, 'F-Test p-value': 0.00018373553989099408}\n"
     ]
    }
   ],
   "source": [
    "#Cek Homoskesdastisitas\n",
    "bp_test=sm.stats.diagnostic.het_breuschpagan(residual1,X_train)\n",
    "labels = [\"LM Statistic\", \"LM-Test p-value\", \"F-Statistic\", \"F-Test p-value\"]\n",
    "print(dict(zip(labels, bp_test)))"
   ]
  },
  {
   "cell_type": "code",
   "execution_count": 41,
   "metadata": {
    "id": "pk3eZF3QV9UX",
    "outputId": "714c08cc-f798-4b82-b6f4-8448ad41bb88"
   },
   "outputs": [
    {
     "data": {
      "text/plain": [
       "Jarque_beraResult(statistic=5.06422850737395, pvalue=0.0794907788237944)"
      ]
     },
     "execution_count": 41,
     "metadata": {},
     "output_type": "execute_result"
    }
   ],
   "source": [
    "#Cek Normalitas\n",
    "import scipy\n",
    "scipy.stats.jarque_bera(residual1)"
   ]
  },
  {
   "cell_type": "markdown",
   "metadata": {
    "id": "5cgkCpOOV9UY"
   },
   "source": [
    "#### Evaluasi Model"
   ]
  },
  {
   "cell_type": "code",
   "execution_count": 42,
   "metadata": {
    "id": "1MEodzuaV9UY",
    "outputId": "de9e0668-a715-4606-ce28-de7f88578729"
   },
   "outputs": [
    {
     "data": {
      "text/plain": [
       "0.017080924531470858"
      ]
     },
     "execution_count": 42,
     "metadata": {},
     "output_type": "execute_result"
    }
   ],
   "source": [
    "#MSE\n",
    "pred_lridge=model_cv.predict(X_test)\n",
    "mean_squared_error(y_test,pred_lridge)"
   ]
  },
  {
   "cell_type": "markdown",
   "metadata": {
    "id": "1wb_tRtPV9UZ"
   },
   "source": [
    "### Regresi Lasso"
   ]
  },
  {
   "cell_type": "code",
   "execution_count": 43,
   "metadata": {
    "id": "zfNwej5zV9Ua",
    "outputId": "f285d8fa-267f-41ff-925e-46563f393754"
   },
   "outputs": [
    {
     "name": "stderr",
     "output_type": "stream",
     "text": [
      "<ipython-input-43-a77f8602b0fa>:8: UserWarning: With alpha=0, this algorithm does not converge well. You are advised to use the LinearRegression estimator\n",
      "  lassoreg.fit(X_train,y_train)\n",
      "C:\\Users\\LENOVO\\anaconda3\\lib\\site-packages\\sklearn\\linear_model\\_coordinate_descent.py:530: UserWarning: Coordinate descent with no regularization may lead to unexpected results and is discouraged.\n",
      "  model = cd_fast.enet_coordinate_descent(\n",
      "C:\\Users\\LENOVO\\anaconda3\\lib\\site-packages\\sklearn\\linear_model\\_coordinate_descent.py:530: ConvergenceWarning: Objective did not converge. You might want to increase the number of iterations. Duality gap: 0.0911707895171519, tolerance: 7.5251e-05\n",
      "  model = cd_fast.enet_coordinate_descent(\n"
     ]
    }
   ],
   "source": [
    "#Melihat Keunggulan Lasso\n",
    "from sklearn.linear_model import Lasso\n",
    "coef=[]\n",
    "alphas = range(0,40)\n",
    "\n",
    "for a in alphas:\n",
    "  lassoreg=Lasso(alpha=a)\n",
    "  lassoreg.fit(X_train,y_train)\n",
    "  coef.append(lassoreg.coef_)"
   ]
  },
  {
   "cell_type": "code",
   "execution_count": 44,
   "metadata": {
    "id": "rzM9nohPV9Ua",
    "outputId": "00cc5ed2-4afa-4e4e-ecf5-144e2682757c"
   },
   "outputs": [
    {
     "data": {
      "image/png": "[encoded data removed]",
      "text/plain": [
       "<Figure size 1080x360 with 1 Axes>"
      ]
     },
     "metadata": {
      "needs_background": "light"
     },
     "output_type": "display_data"
    }
   ],
   "source": [
    "###Membuat plot antara alpha dan koefisien\n",
    "fig=plt.figure(figsize=(15,5))\n",
    "ax=fig.add_subplot(111)\n",
    "ax.plot(alphas,coef)\n",
    "ax.set_xlabel('Alpha (Regularization Parameter)')\n",
    "ax.set_ylabel('Beta (Predictor Coefficients)')\n",
    "ax.set_title('Lasso Coefficients vs Regularization Parameters')\n",
    "ax.axis('tight')\n",
    "###ax.legend(loc='best')\n",
    "fig.savefig('coef_vs_alpha.png')"
   ]
  },
  {
   "cell_type": "code",
   "execution_count": 45,
   "metadata": {
    "id": "I5hJv8hFV9Ub",
    "outputId": "82616c1b-f234-4dec-eed2-4f4e6b09305c"
   },
   "outputs": [
    {
     "name": "stdout",
     "output_type": "stream",
     "text": [
      "0\n",
      "0.8320810000739854\n",
      "[ 0.17445186 -0.05775816 -0.96300566  0.16120892 -0.09288694]\n"
     ]
    },
    {
     "name": "stderr",
     "output_type": "stream",
     "text": [
      "C:\\Users\\LENOVO\\anaconda3\\lib\\site-packages\\sklearn\\linear_model\\_coordinate_descent.py:526: UserWarning: Coordinate descent with alpha=0 may lead to unexpected results and is discouraged.\n",
      "  model = cd_fast.enet_coordinate_descent_gram(\n",
      "C:\\Users\\LENOVO\\anaconda3\\lib\\site-packages\\sklearn\\linear_model\\_coordinate_descent.py:526: ConvergenceWarning: Objective did not converge. You might want to increase the number of iterations. Duality gap: 0.0789882637366574, tolerance: 6.090718750000002e-05\n",
      "  model = cd_fast.enet_coordinate_descent_gram(\n",
      "C:\\Users\\LENOVO\\anaconda3\\lib\\site-packages\\sklearn\\linear_model\\_coordinate_descent.py:526: UserWarning: Coordinate descent with alpha=0 may lead to unexpected results and is discouraged.\n",
      "  model = cd_fast.enet_coordinate_descent_gram(\n",
      "C:\\Users\\LENOVO\\anaconda3\\lib\\site-packages\\sklearn\\linear_model\\_coordinate_descent.py:526: ConvergenceWarning: Objective did not converge. You might want to increase the number of iterations. Duality gap: 0.07763600357003547, tolerance: 6.160875000000001e-05\n",
      "  model = cd_fast.enet_coordinate_descent_gram(\n",
      "C:\\Users\\LENOVO\\anaconda3\\lib\\site-packages\\sklearn\\linear_model\\_coordinate_descent.py:526: UserWarning: Coordinate descent with alpha=0 may lead to unexpected results and is discouraged.\n",
      "  model = cd_fast.enet_coordinate_descent_gram(\n",
      "C:\\Users\\LENOVO\\anaconda3\\lib\\site-packages\\sklearn\\linear_model\\_coordinate_descent.py:526: ConvergenceWarning: Objective did not converge. You might want to increase the number of iterations. Duality gap: 0.047477340856876826, tolerance: 5.246875e-05\n",
      "  model = cd_fast.enet_coordinate_descent_gram(\n",
      "C:\\Users\\LENOVO\\anaconda3\\lib\\site-packages\\sklearn\\linear_model\\_coordinate_descent.py:526: UserWarning: Coordinate descent with alpha=0 may lead to unexpected results and is discouraged.\n",
      "  model = cd_fast.enet_coordinate_descent_gram(\n",
      "C:\\Users\\LENOVO\\anaconda3\\lib\\site-packages\\sklearn\\linear_model\\_coordinate_descent.py:526: ConvergenceWarning: Objective did not converge. You might want to increase the number of iterations. Duality gap: 0.06781031085806655, tolerance: 7.116e-05\n",
      "  model = cd_fast.enet_coordinate_descent_gram(\n",
      "C:\\Users\\LENOVO\\anaconda3\\lib\\site-packages\\sklearn\\linear_model\\_coordinate_descent.py:526: UserWarning: Coordinate descent with alpha=0 may lead to unexpected results and is discouraged.\n",
      "  model = cd_fast.enet_coordinate_descent_gram(\n",
      "C:\\Users\\LENOVO\\anaconda3\\lib\\site-packages\\sklearn\\linear_model\\_coordinate_descent.py:526: ConvergenceWarning: Objective did not converge. You might want to increase the number of iterations. Duality gap: 0.07711991091209236, tolerance: 5.4289687500000006e-05\n",
      "  model = cd_fast.enet_coordinate_descent_gram(\n",
      "C:\\Users\\LENOVO\\anaconda3\\lib\\site-packages\\sklearn\\linear_model\\_coordinate_descent.py:1349: UserWarning: With alpha=0, this algorithm does not converge well. You are advised to use the LinearRegression estimator\n",
      "  model.fit(X, y)\n",
      "C:\\Users\\LENOVO\\anaconda3\\lib\\site-packages\\sklearn\\linear_model\\_coordinate_descent.py:530: UserWarning: Coordinate descent with no regularization may lead to unexpected results and is discouraged.\n",
      "  model = cd_fast.enet_coordinate_descent(\n",
      "C:\\Users\\LENOVO\\anaconda3\\lib\\site-packages\\sklearn\\linear_model\\_coordinate_descent.py:530: ConvergenceWarning: Objective did not converge. You might want to increase the number of iterations. Duality gap: 0.0911707895171519, tolerance: 7.5251e-05\n",
      "  model = cd_fast.enet_coordinate_descent(\n"
     ]
    }
   ],
   "source": [
    "#Membangun model regresi Lasso dengan nilai alpha terbaik\n",
    "from sklearn.linear_model import LassoCV\n",
    "regl_cv=LassoCV(alphas=range(1))\n",
    "model_cv=regl_cv.fit(X_train,y_train)\n",
    "\n",
    "#alpha terbaik\n",
    "print(model_cv.alpha_)\n",
    "\n",
    "#Parameter regresi Lasso\n",
    "print(model_cv.intercept_)\n",
    "print(model_cv.coef_)"
   ]
  },
  {
   "cell_type": "code",
   "execution_count": 46,
   "metadata": {
    "id": "wvJlXPZ8V9Uc",
    "outputId": "be7beed2-c6e8-4837-b81f-147d67fe2b45"
   },
   "outputs": [
    {
     "data": {
      "text/html": [
       "<div>\n",
       "<style scoped>\n",
       "    .dataframe tbody tr th:only-of-type {\n",
       "        vertical-align: middle;\n",
       "    }\n",
       "\n",
       "    .dataframe tbody tr th {\n",
       "        vertical-align: top;\n",
       "    }\n",
       "\n",
       "    .dataframe thead th {\n",
       "        text-align: right;\n",
       "    }\n",
       "</style>\n",
       "<table border=\"1\" class=\"dataframe\">\n",
       "  <thead>\n",
       "    <tr style=\"text-align: right;\">\n",
       "      <th></th>\n",
       "      <th>lb_stat</th>\n",
       "      <th>lb_pvalue</th>\n",
       "    </tr>\n",
       "  </thead>\n",
       "  <tbody>\n",
       "    <tr>\n",
       "      <th>20</th>\n",
       "      <td>27.393227</td>\n",
       "      <td>0.124559</td>\n",
       "    </tr>\n",
       "  </tbody>\n",
       "</table>\n",
       "</div>"
      ],
      "text/plain": [
       "      lb_stat  lb_pvalue\n",
       "20  27.393227   0.124559"
      ]
     },
     "execution_count": 46,
     "metadata": {},
     "output_type": "execute_result"
    }
   ],
   "source": [
    "#Cek autokorelasi\n",
    "import statsmodels.api as sm\n",
    "residual1=y_train-(model_cv.predict(X_train))\n",
    "sm.stats.diagnostic.acorr_ljungbox(residual1,lags=[20],return_df=True)"
   ]
  },
  {
   "cell_type": "code",
   "execution_count": 47,
   "metadata": {
    "id": "i_ctjrZqV9Ud",
    "outputId": "4ad036ca-e150-4490-f1c1-c02dab9a58c9"
   },
   "outputs": [
    {
     "name": "stdout",
     "output_type": "stream",
     "text": [
      "{'LM Statistic': 17.734611868654827, 'LM-Test p-value': 0.0013905178140421212, 'F-Statistic': 5.57557237934768, 'F-Test p-value': 0.0007026611619787649}\n"
     ]
    }
   ],
   "source": [
    "#Cek Homoskesdastisitas\n",
    "bp_test=sm.stats.diagnostic.het_breuschpagan(residual1,X_train)\n",
    "labels = [\"LM Statistic\", \"LM-Test p-value\", \"F-Statistic\", \"F-Test p-value\"]\n",
    "print(dict(zip(labels, bp_test)))"
   ]
  },
  {
   "cell_type": "code",
   "execution_count": 48,
   "metadata": {
    "id": "f1JZVDQAV9Ue",
    "outputId": "54f01e18-b347-4019-b340-13f2a1ad1817"
   },
   "outputs": [
    {
     "data": {
      "text/plain": [
       "Jarque_beraResult(statistic=4.004709277707931, pvalue=0.1350169923974387)"
      ]
     },
     "execution_count": 48,
     "metadata": {},
     "output_type": "execute_result"
    }
   ],
   "source": [
    "#Cek Normalitas\n",
    "import scipy\n",
    "scipy.stats.jarque_bera(residual1)"
   ]
  },
  {
   "cell_type": "markdown",
   "metadata": {
    "id": "1Da4b7xCV9Uf"
   },
   "source": [
    "#### Evaluasi Model"
   ]
  },
  {
   "cell_type": "code",
   "execution_count": 49,
   "metadata": {
    "id": "8JvEQcPqV9Uf",
    "outputId": "72f1755d-c164-4f8e-aa71-682c44e4247c"
   },
   "outputs": [
    {
     "data": {
      "text/plain": [
       "3.980174651808035"
      ]
     },
     "execution_count": 49,
     "metadata": {},
     "output_type": "execute_result"
    }
   ],
   "source": [
    "#MSE\n",
    "pred_llasso=model_cv.predict(X_test)\n",
    "mean_squared_error(y_test,pred_llasso)"
   ]
  },
  {
   "cell_type": "markdown",
   "metadata": {
    "id": "s9lpLas9V9Ug"
   },
   "source": [
    "### Regresi Elastic Net"
   ]
  },
  {
   "cell_type": "code",
   "execution_count": 50,
   "metadata": {
    "id": "J_KwLMP2V9Ug",
    "outputId": "bb275615-841b-494b-fd03-f321b5b58986"
   },
   "outputs": [
    {
     "name": "stderr",
     "output_type": "stream",
     "text": [
      "<ipython-input-50-80d9f8bff99d>:8: UserWarning: With alpha=0, this algorithm does not converge well. You are advised to use the LinearRegression estimator\n",
      "  Enetreg.fit(X_train,y_train)\n",
      "C:\\Users\\LENOVO\\anaconda3\\lib\\site-packages\\sklearn\\linear_model\\_coordinate_descent.py:530: UserWarning: Coordinate descent with no regularization may lead to unexpected results and is discouraged.\n",
      "  model = cd_fast.enet_coordinate_descent(\n",
      "C:\\Users\\LENOVO\\anaconda3\\lib\\site-packages\\sklearn\\linear_model\\_coordinate_descent.py:530: ConvergenceWarning: Objective did not converge. You might want to increase the number of iterations. Duality gap: 0.0911707895171519, tolerance: 7.5251e-05\n",
      "  model = cd_fast.enet_coordinate_descent(\n"
     ]
    }
   ],
   "source": [
    "#Melihat Keunggulan Ridge\n",
    "from sklearn.linear_model import ElasticNet\n",
    "coef=[]\n",
    "alphas = range(0,40)\n",
    "\n",
    "for a in alphas:\n",
    "        Enetreg=ElasticNet(alpha=a)\n",
    "        Enetreg.fit(X_train,y_train)\n",
    "        coef.append(Enetreg.coef_)"
   ]
  },
  {
   "cell_type": "code",
   "execution_count": 51,
   "metadata": {
    "id": "WSmZNLHYV9Uh",
    "outputId": "99c69820-23c8-47e4-bb3a-142b64cedbb3"
   },
   "outputs": [
    {
     "data": {
      "image/png": "[encoded data removed]",
      "text/plain": [
       "<Figure size 1080x360 with 1 Axes>"
      ]
     },
     "metadata": {
      "needs_background": "light"
     },
     "output_type": "display_data"
    }
   ],
   "source": [
    "###Membuat plot antara alpha dan koefisien\n",
    "fig=plt.figure(figsize=(15,5))\n",
    "ax=fig.add_subplot(111)\n",
    "ax.plot(alphas,coef)\n",
    "ax.set_xlabel('Alpha (Regularization Parameter)')\n",
    "ax.set_ylabel('Beta (Predictor Coefficients)')\n",
    "ax.set_title('ElasticNet Coefficients vs Regularization Parameters')\n",
    "ax.axis('tight')\n",
    "###ax.legend(loc='best')\n",
    "fig.savefig('coef_vs_alpha.png')"
   ]
  },
  {
   "cell_type": "code",
   "execution_count": 52,
   "metadata": {
    "id": "3bscYkfoV9Ui",
    "outputId": "dd667b2a-b407-4aa7-c358-7d015c38e754"
   },
   "outputs": [
    {
     "name": "stdout",
     "output_type": "stream",
     "text": [
      "0\n",
      "0.8320810000739854\n",
      "[ 0.17445186 -0.05775816 -0.96300566  0.16120892 -0.09288694]\n"
     ]
    },
    {
     "name": "stderr",
     "output_type": "stream",
     "text": [
      "C:\\Users\\LENOVO\\anaconda3\\lib\\site-packages\\sklearn\\linear_model\\_coordinate_descent.py:526: UserWarning: Coordinate descent with alpha=0 may lead to unexpected results and is discouraged.\n",
      "  model = cd_fast.enet_coordinate_descent_gram(\n",
      "C:\\Users\\LENOVO\\anaconda3\\lib\\site-packages\\sklearn\\linear_model\\_coordinate_descent.py:526: ConvergenceWarning: Objective did not converge. You might want to increase the number of iterations. Duality gap: 0.0789882637366574, tolerance: 6.090718750000002e-05\n",
      "  model = cd_fast.enet_coordinate_descent_gram(\n",
      "C:\\Users\\LENOVO\\anaconda3\\lib\\site-packages\\sklearn\\linear_model\\_coordinate_descent.py:526: UserWarning: Coordinate descent with alpha=0 may lead to unexpected results and is discouraged.\n",
      "  model = cd_fast.enet_coordinate_descent_gram(\n",
      "C:\\Users\\LENOVO\\anaconda3\\lib\\site-packages\\sklearn\\linear_model\\_coordinate_descent.py:526: ConvergenceWarning: Objective did not converge. You might want to increase the number of iterations. Duality gap: 0.07763600357003547, tolerance: 6.160875000000001e-05\n",
      "  model = cd_fast.enet_coordinate_descent_gram(\n",
      "C:\\Users\\LENOVO\\anaconda3\\lib\\site-packages\\sklearn\\linear_model\\_coordinate_descent.py:526: UserWarning: Coordinate descent with alpha=0 may lead to unexpected results and is discouraged.\n",
      "  model = cd_fast.enet_coordinate_descent_gram(\n",
      "C:\\Users\\LENOVO\\anaconda3\\lib\\site-packages\\sklearn\\linear_model\\_coordinate_descent.py:526: ConvergenceWarning: Objective did not converge. You might want to increase the number of iterations. Duality gap: 0.047477340856876826, tolerance: 5.246875e-05\n",
      "  model = cd_fast.enet_coordinate_descent_gram(\n",
      "C:\\Users\\LENOVO\\anaconda3\\lib\\site-packages\\sklearn\\linear_model\\_coordinate_descent.py:526: UserWarning: Coordinate descent with alpha=0 may lead to unexpected results and is discouraged.\n",
      "  model = cd_fast.enet_coordinate_descent_gram(\n",
      "C:\\Users\\LENOVO\\anaconda3\\lib\\site-packages\\sklearn\\linear_model\\_coordinate_descent.py:526: ConvergenceWarning: Objective did not converge. You might want to increase the number of iterations. Duality gap: 0.06781031085806655, tolerance: 7.116e-05\n",
      "  model = cd_fast.enet_coordinate_descent_gram(\n",
      "C:\\Users\\LENOVO\\anaconda3\\lib\\site-packages\\sklearn\\linear_model\\_coordinate_descent.py:526: UserWarning: Coordinate descent with alpha=0 may lead to unexpected results and is discouraged.\n",
      "  model = cd_fast.enet_coordinate_descent_gram(\n",
      "C:\\Users\\LENOVO\\anaconda3\\lib\\site-packages\\sklearn\\linear_model\\_coordinate_descent.py:526: ConvergenceWarning: Objective did not converge. You might want to increase the number of iterations. Duality gap: 0.07711991091209236, tolerance: 5.4289687500000006e-05\n",
      "  model = cd_fast.enet_coordinate_descent_gram(\n",
      "C:\\Users\\LENOVO\\anaconda3\\lib\\site-packages\\sklearn\\linear_model\\_coordinate_descent.py:1349: UserWarning: With alpha=0, this algorithm does not converge well. You are advised to use the LinearRegression estimator\n",
      "  model.fit(X, y)\n",
      "C:\\Users\\LENOVO\\anaconda3\\lib\\site-packages\\sklearn\\linear_model\\_coordinate_descent.py:530: UserWarning: Coordinate descent with no regularization may lead to unexpected results and is discouraged.\n",
      "  model = cd_fast.enet_coordinate_descent(\n",
      "C:\\Users\\LENOVO\\anaconda3\\lib\\site-packages\\sklearn\\linear_model\\_coordinate_descent.py:530: ConvergenceWarning: Objective did not converge. You might want to increase the number of iterations. Duality gap: 0.0911707895171519, tolerance: 7.5251e-05\n",
      "  model = cd_fast.enet_coordinate_descent(\n"
     ]
    }
   ],
   "source": [
    "#Membangun model regresi ElasticNetCV dengan nilai alpha terbaik\n",
    "from sklearn.linear_model import ElasticNetCV\n",
    "Enet_cv=ElasticNetCV(alphas=range(1),l1_ratio=0.5)\n",
    "model_cv=Enet_cv.fit(X_train,y_train)\n",
    "\n",
    "#alpha terbaik\n",
    "print(model_cv.alpha_)\n",
    "\n",
    "#Parameter regresi ElasticNetCV\n",
    "print(model_cv.intercept_)\n",
    "print(model_cv.coef_)"
   ]
  },
  {
   "cell_type": "code",
   "execution_count": 53,
   "metadata": {
    "id": "pNeOtLULV9Uj",
    "outputId": "a38f4a58-d19b-44a1-f09a-cd5b7c744169"
   },
   "outputs": [
    {
     "data": {
      "text/html": [
       "<div>\n",
       "<style scoped>\n",
       "    .dataframe tbody tr th:only-of-type {\n",
       "        vertical-align: middle;\n",
       "    }\n",
       "\n",
       "    .dataframe tbody tr th {\n",
       "        vertical-align: top;\n",
       "    }\n",
       "\n",
       "    .dataframe thead th {\n",
       "        text-align: right;\n",
       "    }\n",
       "</style>\n",
       "<table border=\"1\" class=\"dataframe\">\n",
       "  <thead>\n",
       "    <tr style=\"text-align: right;\">\n",
       "      <th></th>\n",
       "      <th>lb_stat</th>\n",
       "      <th>lb_pvalue</th>\n",
       "    </tr>\n",
       "  </thead>\n",
       "  <tbody>\n",
       "    <tr>\n",
       "      <th>20</th>\n",
       "      <td>27.393227</td>\n",
       "      <td>0.124559</td>\n",
       "    </tr>\n",
       "  </tbody>\n",
       "</table>\n",
       "</div>"
      ],
      "text/plain": [
       "      lb_stat  lb_pvalue\n",
       "20  27.393227   0.124559"
      ]
     },
     "execution_count": 53,
     "metadata": {},
     "output_type": "execute_result"
    }
   ],
   "source": [
    "#Cek autokorelasi\n",
    "import statsmodels.api as sm\n",
    "residual1=y_train-(model_cv.predict(X_train))\n",
    "sm.stats.diagnostic.acorr_ljungbox(residual1,lags=[20],return_df=True)"
   ]
  },
  {
   "cell_type": "code",
   "execution_count": 54,
   "metadata": {
    "id": "vOUkyqS_V9Uk",
    "outputId": "2319507e-1564-4e33-9255-291e03bdcfa0"
   },
   "outputs": [
    {
     "name": "stdout",
     "output_type": "stream",
     "text": [
      "{'LM Statistic': 17.734611868654827, 'LM-Test p-value': 0.0013905178140421212, 'F-Statistic': 5.57557237934768, 'F-Test p-value': 0.0007026611619787649}\n"
     ]
    }
   ],
   "source": [
    "#Cek Homoskesdastisitas\n",
    "bp_test=sm.stats.diagnostic.het_breuschpagan(residual1,X_train)\n",
    "labels = [\"LM Statistic\", \"LM-Test p-value\", \"F-Statistic\", \"F-Test p-value\"]\n",
    "print(dict(zip(labels, bp_test)))"
   ]
  },
  {
   "cell_type": "code",
   "execution_count": 55,
   "metadata": {
    "id": "5_RcKYZ5V9Uk",
    "outputId": "75ca69c4-c73e-427b-847d-8bc2ce1c2e91"
   },
   "outputs": [
    {
     "data": {
      "text/plain": [
       "Jarque_beraResult(statistic=4.004709277707931, pvalue=0.1350169923974387)"
      ]
     },
     "execution_count": 55,
     "metadata": {},
     "output_type": "execute_result"
    }
   ],
   "source": [
    "#Cek Normalitas\n",
    "import scipy\n",
    "scipy.stats.jarque_bera(residual1)"
   ]
  },
  {
   "cell_type": "markdown",
   "metadata": {
    "id": "Xfwi8M5iV9Ul"
   },
   "source": [
    "#### Evaluasi Model"
   ]
  },
  {
   "cell_type": "code",
   "execution_count": 56,
   "metadata": {
    "id": "JzGVtx68V9Um",
    "outputId": "8e90cde5-7ad4-48de-df5e-f344156adddf"
   },
   "outputs": [
    {
     "data": {
      "text/plain": [
       "3.980174651808035"
      ]
     },
     "execution_count": 56,
     "metadata": {},
     "output_type": "execute_result"
    }
   ],
   "source": [
    "#MSE\n",
    "pred_Enet=model_cv.predict(X_test)\n",
    "mean_squared_error(y_test,pred_Enet)"
   ]
  }
 ],
 "metadata": {
  "colab": {
   "name": "Regression.ipynb",
   "provenance": []
  },
  "kernelspec": {
   "display_name": "Python 3",
   "language": "python",
   "name": "python3"
  },
  "language_info": {
   "codemirror_mode": {
    "name": "ipython",
    "version": 3
   },
   "file_extension": ".py",
   "mimetype": "text/x-python",
   "name": "python",
   "nbconvert_exporter": "python",
   "pygments_lexer": "ipython3",
   "version": "3.8.5"
  }
 },
 "nbformat": 4,
 "nbformat_minor": 4
}
